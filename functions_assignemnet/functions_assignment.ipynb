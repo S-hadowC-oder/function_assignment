{
 "cells": [
  {
   "cell_type": "markdown",
   "metadata": {},
   "source": [
    "# Theory Questions"
   ]
  },
  {
   "cell_type": "code",
   "execution_count": null,
   "metadata": {},
   "outputs": [],
   "source": [
    "# 1. What is the difference between a function and a method in Python?\n",
    "\n",
    "# 2. Explain the concept of function arguments and parameters in Python.\n",
    "\n",
    "# 3. What are the different ways to define and call a function in Python?\n",
    "\n",
    "# 4. What is the purpose of the `return` statement in a Python function?\n",
    "\n",
    "# 5. What are iterators in Python and how do they differ from iterables?\n",
    "\n",
    "# 6. Explain the concept of generators in Python and how they are defined.\n",
    "\n",
    "# 7. What are the advantages of using generators over regular functions?\n",
    "\n",
    "# 8. What is a lambda function in Python and when is it typically used?\n",
    "\n",
    "# 9. Explain the purpose and usage of the `map()` function in Python.\n",
    "\n",
    "# 10. What is the difference between `map()`, `reduce()`, and `filter()` functions in Python?\n",
    "# (Attach paper image for this answer) in doc or colab notebook.\n",
    "# 11. Using pen & Paper write the internal mechanism for sum operation using reduce function on this given\n",
    "# list:[47,11,42,13];\n"
   ]
  },
  {
   "cell_type": "code",
   "execution_count": 2,
   "metadata": {},
   "outputs": [
    {
     "data": {
      "text/plain": [
       "'Hello harsh'"
      ]
     },
     "execution_count": 2,
     "metadata": {},
     "output_type": "execute_result"
    }
   ],
   "source": [
    "# 1. Difference Between a Function and a Method in Python:\n",
    "'''Function: A block of reusable code defined outside of classes. It performs a specific task and is invoked by its name.\n",
    "Method: A function that is associated with an object (usually defined inside a class). It can access and modify the data of the object it is called on.'''\n",
    "\n",
    "# Function\n",
    "def greet(x):\n",
    "    return f\"Hello {x}\"\n",
    "\n",
    "x= input(\"Enter your name\")\n",
    "greet(x)"
   ]
  },
  {
   "cell_type": "code",
   "execution_count": 4,
   "metadata": {},
   "outputs": [
    {
     "name": "stdout",
     "output_type": "stream",
     "text": [
      "Ajay\n",
      "96\n"
     ]
    }
   ],
   "source": [
    "# Method (within a class)\n",
    "class Person:\n",
    "  def __init__(self, name, age):\n",
    "    self.name = name\n",
    "    self.age = age\n",
    "\n",
    "p1 = Person(\"Ajay\", 96)\n",
    "\n",
    "print(p1.name)\n",
    "print(p1.age)"
   ]
  },
  {
   "cell_type": "code",
   "execution_count": 5,
   "metadata": {},
   "outputs": [
    {
     "data": {
      "text/plain": [
       "8"
      ]
     },
     "execution_count": 5,
     "metadata": {},
     "output_type": "execute_result"
    }
   ],
   "source": [
    "# 2. Function Arguments and Parameters in Python:\n",
    "# Parameters: Variables defined in the function definition. They act as placeholders for the values that the function will process.\n",
    "# Arguments: Actual values passed to a function when it is called. These values are assigned to the parameters.\n",
    "def add(a, b):  # 'a' and 'b' are parameters\n",
    "    return a + b\n",
    "\n",
    "add(3, 5)  # 3 and 5 are arguments\n"
   ]
  },
  {
   "cell_type": "code",
   "execution_count": 6,
   "metadata": {},
   "outputs": [],
   "source": [
    "# 3. Ways to Define and Call a Function in Python:\n",
    "# Defining a Function: Use the def keyword followed by the function name and parameters.\n",
    "# Calling a Function: Use the function name followed by parentheses with arguments.\n",
    "# Defining a function\n",
    "def square(x):\n",
    "    return x * x\n",
    "\n",
    "# Calling a function\n",
    "result = square(4)\n"
   ]
  },
  {
   "cell_type": "code",
   "execution_count": 8,
   "metadata": {},
   "outputs": [
    {
     "data": {
      "text/plain": [
       "30"
      ]
     },
     "execution_count": 8,
     "metadata": {},
     "output_type": "execute_result"
    }
   ],
   "source": [
    "# 4. Purpose of the return Statement:\n",
    "# The return statement ends a function's execution and sends the result back to the caller. If no return is specified, the function returns None.\n",
    "\n",
    "# Example:\n",
    "def multiply(a, b):\n",
    "    return a * b  # Returns the product of a and b\n",
    "multiply(5,6)"
   ]
  },
  {
   "cell_type": "code",
   "execution_count": 10,
   "metadata": {},
   "outputs": [
    {
     "name": "stdout",
     "output_type": "stream",
     "text": [
      "1\n"
     ]
    }
   ],
   "source": [
    "# 5. Iterators and Iterables in Python:\n",
    "'''Iterable: An object capable of returning its members one at a time (e.g., lists, tuples). It uses the __iter__() method to return an iterator.'''\n",
    "'''Iterator: An object representing a stream of data. It has the __next__() method to get the next value.\n",
    "Example:'''\n",
    "my_list = [1, 2, 3]\n",
    "iterator = iter(my_list)  # Returns an iterator\n",
    "print(next(iterator))  # 1\n"
   ]
  },
  {
   "cell_type": "code",
   "execution_count": 11,
   "metadata": {},
   "outputs": [
    {
     "name": "stdout",
     "output_type": "stream",
     "text": [
      "1\n"
     ]
    }
   ],
   "source": [
    "# 6. Generators in Python:\n",
    "'''Generators are special iterators that yield values one at a time using the yield keyword instead of return. They are defined like functions but use yield to produce a series of results lazily (on demand).'''  \n",
    "def count_up_to(n):\n",
    "    for i in range(1, n + 1):\n",
    "        yield i\n",
    "\n",
    "counter = count_up_to(3)\n",
    "print(next(counter))  # 1\n"
   ]
  },
  {
   "cell_type": "code",
   "execution_count": 12,
   "metadata": {},
   "outputs": [
    {
     "data": {
      "text/plain": [
       "'1.Memory Efficiency: They generate items on the fly, reducing memory usage.\\n2.Lazy Evaluation: Values are produced only when needed, optimizing performance.\\n3.Infinite Sequences: Can represent potentially infinite sequences like numbers without running out of memory.'"
      ]
     },
     "execution_count": 12,
     "metadata": {},
     "output_type": "execute_result"
    }
   ],
   "source": [
    "# 7. Advantages of Using Generators:\n",
    "'''1.Memory Efficiency: They generate items on the fly, reducing memory usage.\n",
    "2.Lazy Evaluation: Values are produced only when needed, optimizing performance.\n",
    "3.Infinite Sequences: Can represent potentially infinite sequences like numbers without running out of memory.'''"
   ]
  },
  {
   "cell_type": "code",
   "execution_count": 13,
   "metadata": {},
   "outputs": [
    {
     "name": "stdout",
     "output_type": "stream",
     "text": [
      "13\n"
     ]
    }
   ],
   "source": [
    "# 8. Lambda Function in Python:\n",
    "# A lambda function is an anonymous, single-expression function. It’s used where small, simple functions are needed temporarily.\n",
    "x = lambda a, b, c : a + b + c\n",
    "print(x(5, 6, 2))\n"
   ]
  },
  {
   "cell_type": "code",
   "execution_count": 14,
   "metadata": {},
   "outputs": [
    {
     "name": "stdout",
     "output_type": "stream",
     "text": [
      "[1, 4, 9, 16]\n"
     ]
    }
   ],
   "source": [
    "# 9. Purpose and Usage of the map() Function:\n",
    "# # map() applies a given function to all items of an iterable (like a list) and returns a map object (which is an iterator).\n",
    "numbers = [1, 2, 3, 4]\n",
    "squared = map(lambda x: x ** 2, numbers)  # Applies the lambda function to square each number\n",
    "print(list(squared))  # [1, 4, 9, 16]\n"
   ]
  },
  {
   "cell_type": "code",
   "execution_count": 15,
   "metadata": {},
   "outputs": [
    {
     "name": "stdout",
     "output_type": "stream",
     "text": [
      "10\n"
     ]
    }
   ],
   "source": [
    "# 10. Difference Between map(), reduce(), and filter():\n",
    "# map(): Applies a function to every item in an iterable.\n",
    "# reduce(): Applies a function cumulatively to the items of an iterable, reducing it to a single value.\n",
    "# filter(): Applies a function to filter items from an iterable based on a condition.\n",
    "#Reduce:\n",
    "from functools import reduce\n",
    "\n",
    "numbers = [1, 2, 3, 4]\n",
    "sum_numbers = reduce(lambda a, b: a + b, numbers)\n",
    "print(sum_numbers)  # 10\n"
   ]
  },
  {
   "cell_type": "code",
   "execution_count": 18,
   "metadata": {},
   "outputs": [
    {
     "name": "stdout",
     "output_type": "stream",
     "text": [
      "18\n",
      "24\n",
      "32\n"
     ]
    }
   ],
   "source": [
    "#Filter:\n",
    "ages = [5, 12, 17, 18, 24, 32]\n",
    "\n",
    "def myFunc(x):\n",
    "  if x < 18:\n",
    "    return False\n",
    "  else:\n",
    "    return True\n",
    "\n",
    "adults = filter(myFunc, ages)\n",
    "\n",
    "for x in adults:\n",
    "  print(x)"
   ]
  },
  {
   "cell_type": "code",
   "execution_count": 17,
   "metadata": {},
   "outputs": [
    {
     "name": "stdout",
     "output_type": "stream",
     "text": [
      "<map object at 0x0000028ED7E1B370>\n",
      "[5, 6, 6]\n"
     ]
    }
   ],
   "source": [
    "#Map\n",
    "def myfunc(n):\n",
    "  return len(n)\n",
    "\n",
    "x = map(myfunc, ('apple', 'banana', 'cherry'))\n",
    "\n",
    "print(x)\n",
    "print(list(x))\n"
   ]
  },
  {
   "cell_type": "markdown",
   "metadata": {},
   "source": [
    "# Practical Questions:"
   ]
  },
  {
   "cell_type": "code",
   "execution_count": null,
   "metadata": {},
   "outputs": [],
   "source": [
    "\n",
    "# 1. Write a Python function that takes a list of numbers as input and returns the sum of all even numbers in\n",
    "# the list.\n",
    "# 2. Create a Python function that accepts a string and returns the reverse of that string.\n",
    "# 3. Implement a Python function that takes a list of integers and returns a new list containing the squares of\n",
    "# each number.\n",
    "# 4. Write a Python function that checks if a given number is prime or not from 1 to 200.\n",
    "\n",
    "# 5. Create an iterator class in Python that generates the Fibonacci sequence up to a specified number of\n",
    "# terms.\n",
    "# 6. Write a generator function in Python that yields the powers of 2 up to a given exponent.\n",
    "# 7. Implement a generator function that reads a file line by line and yields each line as a string.\n",
    "# 8. Use a lambda function in Python to sort a list of tuples based on the second element of each tuple.\n",
    "# 9. Write a Python program that uses map() to convert a list of temperatures from Celsius to Fahrenheit.\n",
    "# 10. Create a Python program that uses filter() to remove all the vowels from a given string"
   ]
  },
  {
   "cell_type": "code",
   "execution_count": 19,
   "metadata": {},
   "outputs": [
    {
     "name": "stdout",
     "output_type": "stream",
     "text": [
      "12\n"
     ]
    }
   ],
   "source": [
    "# 1. Sum of All Even Numbers in a List:\n",
    "def sum_of_even_numbers(numbers):\n",
    "    return sum(num for num in numbers if num % 2 == 0)\n",
    "\n",
    "# Example usage\n",
    "numbers = [1, 2, 3, 4, 5, 6]\n",
    "print(sum_of_even_numbers(numbers))  # Output: 12\n"
   ]
  },
  {
   "cell_type": "code",
   "execution_count": 20,
   "metadata": {},
   "outputs": [
    {
     "name": "stdout",
     "output_type": "stream",
     "text": [
      "olleh\n"
     ]
    }
   ],
   "source": [
    "# 2. Reverse a String:\n",
    "def reverse_string(s):\n",
    "    return s[::-1]\n",
    "\n",
    "# Example usage\n",
    "text = \"hello\"\n",
    "print(reverse_string(text))  # Output: \"olleh\"\n"
   ]
  },
  {
   "cell_type": "code",
   "execution_count": 21,
   "metadata": {},
   "outputs": [
    {
     "name": "stdout",
     "output_type": "stream",
     "text": [
      "[1, 4, 9, 16]\n"
     ]
    }
   ],
   "source": [
    "# 3. Square of Each Number in a List:\n",
    "def square_numbers(numbers):\n",
    "    return [num ** 2 for num in numbers]\n",
    "\n",
    "# Example usage\n",
    "numbers = [1, 2, 3, 4]\n",
    "print(square_numbers(numbers))  # Output: [1, 4, 9, 16]\n"
   ]
  },
  {
   "cell_type": "code",
   "execution_count": 23,
   "metadata": {},
   "outputs": [
    {
     "name": "stdout",
     "output_type": "stream",
     "text": [
      "[2, 3, 5, 7, 11, 13, 17, 19, 23, 29, 31, 37, 41, 43, 47, 53, 59, 61, 67, 71, 73, 79, 83, 89, 97, 101, 103, 107, 109, 113, 127, 131, 137, 139, 149, 151, 157, 163, 167, 173, 179, 181, 191, 193, 197, 199]\n"
     ]
    }
   ],
   "source": [
    "# 4. Check if a Number is Prime from 1 to 200:\n",
    "\n",
    "def is_prime(n):\n",
    "    if n < 2:\n",
    "        return False\n",
    "    for i in range(2, int(n**0.5) + 1):\n",
    "        if n % i == 0:\n",
    "            return False\n",
    "    return True\n",
    "\n",
    "# Prime numbers from 1 to 200\n",
    "primes = [num for num in range(1, 201) if is_prime(num)]\n",
    "print(primes)  # Output: List of prime numbers between 1 and 200"
   ]
  },
  {
   "cell_type": "code",
   "execution_count": 24,
   "metadata": {},
   "outputs": [
    {
     "name": "stdout",
     "output_type": "stream",
     "text": [
      "0\n",
      "1\n",
      "1\n",
      "2\n",
      "3\n",
      "5\n",
      "8\n",
      "13\n",
      "21\n",
      "34\n"
     ]
    }
   ],
   "source": [
    "# 5. Fibonacci Iterator Class:\n",
    "class FibonacciIterator:\n",
    "    def __init__(self, num_terms):\n",
    "        self.num_terms = num_terms\n",
    "        self.a, self.b = 0, 1\n",
    "        self.count = 0\n",
    "\n",
    "    def __iter__(self):\n",
    "        return self\n",
    "\n",
    "    def __next__(self):\n",
    "        if self.count >= self.num_terms:\n",
    "            raise StopIteration\n",
    "        self.count += 1\n",
    "        fib_num = self.a\n",
    "        self.a, self.b = self.b, self.a + self.b\n",
    "        return fib_num\n",
    "\n",
    "# Example usage\n",
    "fib_sequence = FibonacciIterator(10)\n",
    "for num in fib_sequence:\n",
    "    print(num)"
   ]
  },
  {
   "cell_type": "code",
   "execution_count": 25,
   "metadata": {},
   "outputs": [
    {
     "name": "stdout",
     "output_type": "stream",
     "text": [
      "1\n",
      "2\n",
      "4\n",
      "8\n",
      "16\n",
      "32\n"
     ]
    }
   ],
   "source": [
    "# 6. Generator for Powers of 2:\n",
    "def powers_of_2(max_exponent):\n",
    "    for i in range(max_exponent + 1):\n",
    "        yield 2 ** i\n",
    "\n",
    "# Example usage\n",
    "for power in powers_of_2(5):\n",
    "    print(power)  # Output: 1, 2, 4, 8, 16, 32\n"
   ]
  },
  {
   "cell_type": "code",
   "execution_count": 1,
   "metadata": {},
   "outputs": [
    {
     "name": "stdout",
     "output_type": "stream",
     "text": [
      "Applied scientists benefit nearly every industry since they're responsible for finding ways to use technology to improve our lives. They often work in teams with professionals across various disciplines covering a range of fields. Applied scientist roles are great options for people who want to contribute to improving business processes and making a difference in other people’s lives. They can work on specialized or elite projects and create new technologies that improve the landscape of science.\n",
      "\n",
      "If you’re interested in optics, electrical engineering, material science, or machine learning, consider becoming an applied scientist.\n",
      "\n",
      "IBM\n",
      "specialization\n",
      "\n",
      "Applied Data Science\n",
      "Get hands-on skills for a career in data science. Learn Python, analyze and visualize data. Apply your skills to data science and machine learning.\n",
      "\n",
      "4.7\n",
      "\n",
      "(7,568 ratings)\n",
      "\n",
      "65,681 already enrolled\n",
      "\n",
      "Beginner level\n",
      "\n",
      "Average time: 2 month(s)\n",
      "\n",
      "Learn at your own pace\n",
      "\n",
      "Skills you'll build:\n",
      "\n",
      "Model Selection, Data Analysis, Python Programming, Data Visualization, Predictive Modelling, Dashboards and Charts, dash, Matplotlib, Data Science, Pandas, Jupyter notebooks, Numpy, Github, Jupyter Notebook, K-Means Clustering, Methodology, Data Science Methodology\n",
      "\n",
      "What is an applied scientist?\n",
      "Applied scientists have in-depth knowledge of one or more scientific fields, use methods and research skills to solve real-world problems, and help businesses meet their objectives. They typically devote their time to developing new technologies, devices, and processes that help improve the landscape of their industry and the quality of life. Unlike other types of science, which involve posing theoretical questions, applied science finds practical solutions and functional applications for its results.\n",
      "\n",
      "Applied science is an overarching term for scientists who work with various scientific methodologies to create new inventions or processes that improve daily lives. Applied scientists tend to work in private sector industries, such as health care, banking, engineering, or technology, to devise innovative solutions that advance their field or focus of study.\n"
     ]
    }
   ],
   "source": [
    "# 7. Generator to Read a File Line by Line:\n",
    "def read_file_line_by_line(file_path):\n",
    "    with open(file_path, 'r') as file:\n",
    "        for line in file:\n",
    "            yield line.strip()\n",
    "for line in read_file_line_by_line('example.txt'):\n",
    "    print(line)"
   ]
  },
  {
   "cell_type": "code",
   "execution_count": 28,
   "metadata": {},
   "outputs": [
    {
     "name": "stdout",
     "output_type": "stream",
     "text": [
      "[(3, 'a'), (1, 'b'), (2, 'c')]\n"
     ]
    }
   ],
   "source": [
    "# 8. Lambda to Sort a List of Tuples Based on the Second Element:\n",
    "# List of tupls\n",
    "tuples = [(1, 'b'), (3, 'a'), (2, 'c')]\n",
    "\n",
    "# Sorting based on second element\n",
    "sorted_tuples = sorted(tuples, key=lambda x: x[1])\n",
    "print(sorted_tuples) "
   ]
  },
  {
   "cell_type": "code",
   "execution_count": 29,
   "metadata": {},
   "outputs": [
    {
     "name": "stdout",
     "output_type": "stream",
     "text": [
      "[32.0, 68.0, 98.6, 212.0]\n"
     ]
    }
   ],
   "source": [
    "# 9. Convert Celsius to Fahrenheit Using map():\n",
    "def celsius_to_fahrenheit(celsius):\n",
    "    return (celsius * 9/5) + 32\n",
    "\n",
    "# Example usage\n",
    "celsius_temps = [0, 20, 37, 100]\n",
    "fahrenheit_temps = list(map(celsius_to_fahrenheit, celsius_temps))\n",
    "print(fahrenheit_temps) "
   ]
  },
  {
   "cell_type": "code",
   "execution_count": 30,
   "metadata": {},
   "outputs": [
    {
     "name": "stdout",
     "output_type": "stream",
     "text": [
      "Hll Wrld\n"
     ]
    }
   ],
   "source": [
    "# 10. Remove Vowels from a String Using filter():\n",
    "def remove_vowels(text):\n",
    "    vowels = 'aeiouAEIOU'\n",
    "    return ''.join(filter(lambda char: char not in vowels, text))\n",
    "\n",
    "# Example usage\n",
    "text = \"Hello World\"\n",
    "print(remove_vowels(text))  # Output: \"Hll Wrld\""
   ]
  },
  {
   "cell_type": "code",
   "execution_count": null,
   "metadata": {},
   "outputs": [],
   "source": []
  }
 ],
 "metadata": {
  "kernelspec": {
   "display_name": "base",
   "language": "python",
   "name": "python3"
  },
  "language_info": {
   "codemirror_mode": {
    "name": "ipython",
    "version": 3
   },
   "file_extension": ".py",
   "mimetype": "text/x-python",
   "name": "python",
   "nbconvert_exporter": "python",
   "pygments_lexer": "ipython3",
   "version": "3.11.5"
  }
 },
 "nbformat": 4,
 "nbformat_minor": 2
}
